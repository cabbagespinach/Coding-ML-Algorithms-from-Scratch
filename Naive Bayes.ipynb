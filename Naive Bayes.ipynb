{
 "cells": [
  {
   "cell_type": "code",
   "execution_count": 20,
   "id": "0",
   "metadata": {},
   "outputs": [],
   "source": [
    "import os\n",
    "import re\n",
    "import csv\n",
    "import random\n",
    "import matplotlib.pyplot as plt\n",
    "from datetime import datetime"
   ]
  },
  {
   "cell_type": "code",
   "execution_count": 3,
   "id": "1",
   "metadata": {},
   "outputs": [],
   "source": [
    "file_path = './trec06p-ai201'"
   ]
  },
  {
   "cell_type": "markdown",
   "id": "e8622758",
   "metadata": {},
   "source": [
    "Dataset Labels"
   ]
  },
  {
   "cell_type": "code",
   "execution_count": 4,
   "id": "2",
   "metadata": {},
   "outputs": [],
   "source": [
    "label = '/labels'\n",
    "label_dictionary = {}\n",
    "with open(file_path+label, 'r') as file:\n",
    "    for line in file.readlines():\n",
    "        label_key = line[line.find('data')+5:line.find('data')+12]\n",
    "        label_value = line[:line.find(' ')]\n",
    "        label_dictionary[label_key] = label_value"
   ]
  },
  {
   "cell_type": "markdown",
   "id": "cf28ba93",
   "metadata": {},
   "source": [
    "## 1 and 2. Parsing the document and partitioning the data to create the training and test set."
   ]
  },
  {
   "cell_type": "markdown",
   "id": "95c84b11",
   "metadata": {},
   "source": [
    "Test Set List"
   ]
  },
  {
   "cell_type": "code",
   "execution_count": 5,
   "id": "52574c9e",
   "metadata": {},
   "outputs": [
    {
     "data": {
      "text/plain": [
       "2"
      ]
     },
     "execution_count": 5,
     "metadata": {},
     "output_type": "execute_result"
    }
   ],
   "source": [
    "import random\n",
    "\n",
    "dataset_length = len(label_dictionary)\n",
    "sample_count = dataset_length*0.3\n",
    "\n",
    "random.randint(0, 10 - 1)"
   ]
  },
  {
   "cell_type": "code",
   "execution_count": 6,
   "id": "9154262c",
   "metadata": {},
   "outputs": [],
   "source": [
    "data = '/data/'\n",
    "data_file_path = file_path+data\n",
    "folder_list = os.listdir(data_file_path)\n",
    "\n",
    "test_set = []\n",
    "while sample_count > 0:\n",
    "    for folder in folder_list[1:]:\n",
    "        files = os.listdir(data_file_path+folder)\n",
    "        for f in files:\n",
    "            if random.randint(0,1) == 1:\n",
    "                test_set.append(folder+'/'+f)\n",
    "                sample_count-=1"
   ]
  },
  {
   "cell_type": "markdown",
   "id": "444cb451",
   "metadata": {},
   "source": [
    "Full Dataset"
   ]
  },
  {
   "cell_type": "code",
   "execution_count": 7,
   "id": "41d5c2b6",
   "metadata": {},
   "outputs": [],
   "source": [
    "from tqdm import tqdm"
   ]
  },
  {
   "cell_type": "code",
   "execution_count": 8,
   "id": "3",
   "metadata": {},
   "outputs": [
    {
     "name": "stdout",
     "output_type": "stream",
     "text": [
      "127\n"
     ]
    },
    {
     "name": "stderr",
     "output_type": "stream",
     "text": [
      "100%|████████████████████████████████████████████████████████████████████████████████| 127/127 [04:02<00:00,  1.91s/it]\n"
     ]
    }
   ],
   "source": [
    "# Creation of the training data set\n",
    "data_set = []\n",
    "spam_vocabulary = []\n",
    "ham_vocabulary = []\n",
    "ham_count = 0\n",
    "spam_count = 0\n",
    "\n",
    "spam_set_count = {}\n",
    "ham_set_count = {}\n",
    "\n",
    "print(len(folder_list)-1)\n",
    "for folder in tqdm(folder_list[1:]):\n",
    "    files = os.listdir(data_file_path+folder)\n",
    "    now = datetime.now()\n",
    "    total_files = 0\n",
    "    for f in files:\n",
    "        if folder+'/'+f in test_set:\n",
    "            continue # Excludes the document if it is included in the test set\n",
    "        file_temp = {}\n",
    "        file_all_words = []\n",
    "        with open(data_file_path+folder+'/'+f, 'rb') as file:\n",
    "            for line in file.readlines():\n",
    "                try:\n",
    "                    split_words = [w.lower() for w in re.findall(r'[A-Za-z]+', line.decode('utf-8'))]\n",
    "                except UnicodeDecodeError:\n",
    "                    continue\n",
    "                file_all_words+=split_words\n",
    "        file_all_words_set = set(file_all_words)\n",
    "        file_name = folder+'/'+f\n",
    "        file_temp['file_name'] = file_name\n",
    "        file_temp['all_words'] = file_all_words # List of all words in the document, not unique\n",
    "        file_label = label_dictionary[file_name]\n",
    "        file_temp['correct_label'] = file_label\n",
    "        if file_label == 'spam':\n",
    "            spam_vocabulary+=file_all_words_set # Only add unique words in the vocabulary\n",
    "            spam_count+=1\n",
    "            \n",
    "            for word in file_all_words_set:\n",
    "                        if spam_set_count.get(word.lower(), None):\n",
    "                            spam_set_count[word.lower()] += 1\n",
    "                        else:\n",
    "                            spam_set_count[word.lower()] = 1\n",
    "                            \n",
    "        elif file_label == 'ham':\n",
    "            ham_vocabulary+=file_all_words_set # Only add unique words in the vocabulary\n",
    "            ham_count+=1\n",
    "            \n",
    "            for word in file_all_words_set: \n",
    "                        if ham_set_count.get(word.lower(), None):\n",
    "                            ham_set_count[word.lower()] += 1\n",
    "                        else:\n",
    "                            ham_set_count[word.lower()] = 1\n",
    "            \n",
    "        data_set.append(file_temp)\n",
    "        total_files+=1"
   ]
  },
  {
   "cell_type": "markdown",
   "id": "611026a6",
   "metadata": {},
   "source": [
    "Test Set - Full"
   ]
  },
  {
   "cell_type": "code",
   "execution_count": 9,
   "id": "381f7825",
   "metadata": {},
   "outputs": [
    {
     "name": "stdout",
     "output_type": "stream",
     "text": [
      "127\n"
     ]
    },
    {
     "name": "stderr",
     "output_type": "stream",
     "text": [
      "100%|████████████████████████████████████████████████████████████████████████████████| 127/127 [04:48<00:00,  2.27s/it]\n"
     ]
    }
   ],
   "source": [
    "# Creation of the training data set\n",
    "\n",
    "data = '/data/'\n",
    "data_file_path = file_path+data\n",
    "folder_list = os.listdir(data_file_path)\n",
    "data_set_test = []\n",
    "\n",
    "print(len(folder_list)-1)\n",
    "for folder in tqdm(folder_list[1:]):\n",
    "    files = os.listdir(data_file_path+folder)\n",
    "    now = datetime.now()\n",
    "    total_files = 0\n",
    "    for f in files:\n",
    "        if folder+'/'+f not in test_set:\n",
    "            continue\n",
    "        file_temp = {}\n",
    "        file_all_words = []\n",
    "        with open(data_file_path+folder+'/'+f, 'rb') as file:\n",
    "            for line in file.readlines():\n",
    "                try:\n",
    "                    split_words = [w.lower() for w in re.findall(r'[A-Za-z]+', line.decode('utf-8'))]\n",
    "                except UnicodeDecodeError:\n",
    "                    continue\n",
    "                file_all_words+=split_words\n",
    "        file_name = folder+'/'+f\n",
    "        file_temp['file_name'] = file_name\n",
    "        file_temp['all_words'] = file_all_words\n",
    "        file_label = label_dictionary[file_name]\n",
    "        file_temp['correct_label'] = file_label            \n",
    "        data_set_test.append(file_temp)\n",
    "        total_files+=1"
   ]
  },
  {
   "cell_type": "markdown",
   "id": "0825c8b4",
   "metadata": {},
   "source": [
    "Spam and Ham Vocabulary"
   ]
  },
  {
   "cell_type": "code",
   "execution_count": 9,
   "id": "be265650",
   "metadata": {},
   "outputs": [],
   "source": [
    "spam_set = set(spam_vocabulary)\n",
    "spam_set_list = list(spam_set)\n",
    "ham_set = set(ham_vocabulary)\n",
    "ham_set_list = list(ham_set)"
   ]
  },
  {
   "cell_type": "code",
   "execution_count": 10,
   "id": "de49e47b",
   "metadata": {},
   "outputs": [],
   "source": [
    "data_set_length = len(data_set)\n",
    "\n",
    "prior_spam = spam_count / data_set_length\n",
    "prior_ham = ham_count / data_set_length"
   ]
  },
  {
   "cell_type": "code",
   "execution_count": 11,
   "id": "2d37907a",
   "metadata": {},
   "outputs": [
    {
     "name": "stdout",
     "output_type": "stream",
     "text": [
      "Prior Spam Probability: 0.6580645161290323\n",
      "Prior Ham Probability: 0.3419354838709677\n"
     ]
    }
   ],
   "source": [
    "print('Prior Spam Probability:', prior_spam)\n",
    "print('Prior Ham Probability:', prior_ham)"
   ]
  },
  {
   "cell_type": "markdown",
   "id": "f9f2767d",
   "metadata": {},
   "source": [
    "## 3 and 4. Training the classifier by computing the probabilities based on the training set, and applying the classifier to the test set."
   ]
  },
  {
   "cell_type": "code",
   "execution_count": 12,
   "id": "6ad35b96",
   "metadata": {},
   "outputs": [],
   "source": [
    "ham_set_probability = {}\n",
    "for key in ham_set_count:\n",
    "    ham_set_probability[key] = (ham_set_count[key])/ham_count"
   ]
  },
  {
   "cell_type": "code",
   "execution_count": 13,
   "id": "cb3bd773",
   "metadata": {},
   "outputs": [],
   "source": [
    "spam_set_probability = {}\n",
    "for key in spam_set_count:\n",
    "    spam_set_probability[key] = (spam_set_count[key])/spam_count"
   ]
  },
  {
   "cell_type": "code",
   "execution_count": 14,
   "id": "01112327",
   "metadata": {},
   "outputs": [
    {
     "name": "stdout",
     "output_type": "stream",
     "text": [
      "Current Time = 21:25:05\n"
     ]
    },
    {
     "name": "stderr",
     "output_type": "stream",
     "text": [
      "100%|██████████████████████████████████████████████████████████████████████████| 18912/18912 [00:09<00:00, 2077.31it/s]\n"
     ]
    }
   ],
   "source": [
    "import math as m\n",
    "\n",
    "labeled_probability = {}\n",
    "\n",
    "from datetime import datetime\n",
    "now = datetime.now()\n",
    "current_time = now.strftime(\"%H:%M:%S\")\n",
    "print(\"Current Time =\", current_time)\n",
    "\n",
    "for item in tqdm(data_set_test):\n",
    "    \n",
    "    likelihoodA = 1\n",
    "    likelihoodB = 1\n",
    "\n",
    "    for word in item['all_words']:\n",
    "        \n",
    "        # wlower = word\n",
    "        \n",
    "        # spam likelihood\n",
    "        if spam_set_probability.get(word,0) > 0:\n",
    "            a_temp = m.exp(m.log(likelihoodA) + m.log(spam_set_probability.get(word)))\n",
    "        if a_temp <= 0:\n",
    "            break\n",
    "        if a_temp != 0:\n",
    "            likelihoodA = a_temp # m.exp(a_temp)\n",
    "            \n",
    "        # ham likelihood\n",
    "        if ham_set_probability.get(word,0) > 0:\n",
    "            b_temp = m.exp(m.log(likelihoodB) + m.log(ham_set_probability.get(word)))\n",
    "        if b_temp <= 0:\n",
    "            break\n",
    "        if b_temp != 0:\n",
    "            likelihoodB = b_temp # m.exp(b_temp)\n",
    "            \n",
    "    probability_spam = (likelihoodA * prior_spam) / ( (likelihoodA * prior_spam) + (likelihoodB * prior_ham))\n",
    "    probability_ham = (likelihoodB * prior_ham) / ( (likelihoodB * prior_ham) + (likelihoodA * prior_spam) )\n",
    "    \n",
    "    if probability_spam > probability_ham: \n",
    "        labeled_probability[item['file_name']] = 'spam'\n",
    "    else: \n",
    "        labeled_probability[item['file_name']] = 'ham'"
   ]
  },
  {
   "cell_type": "markdown",
   "id": "d246760f",
   "metadata": {},
   "source": [
    "## 5. Evaluation of the Classifier"
   ]
  },
  {
   "cell_type": "markdown",
   "id": "14047fba",
   "metadata": {},
   "source": [
    "Test Set Classification Results"
   ]
  },
  {
   "cell_type": "code",
   "execution_count": 15,
   "id": "3db66843",
   "metadata": {},
   "outputs": [
    {
     "name": "stdout",
     "output_type": "stream",
     "text": [
      "SPAM: 44.96615905245347 %\n",
      "HAM: 55.03384094754653 %\n"
     ]
    }
   ],
   "source": [
    "labeled_probability_values = list(labeled_probability.values())\n",
    "total_length = len(labeled_probability_values)\n",
    "print('SPAM:', (labeled_probability_values.count('spam')/total_length)*100, '%')\n",
    "print('HAM:', (labeled_probability_values.count('ham')/total_length)*100, '%')"
   ]
  },
  {
   "cell_type": "markdown",
   "id": "61b65a3c",
   "metadata": {},
   "source": [
    "Test Set Pre-defined Correct Labels"
   ]
  },
  {
   "cell_type": "code",
   "execution_count": 16,
   "id": "54118620",
   "metadata": {},
   "outputs": [],
   "source": [
    "test_set_labels = {}\n",
    "for file in data_set_test:\n",
    "    test_set_labels[file['file_name']] = file['correct_label']"
   ]
  },
  {
   "cell_type": "markdown",
   "id": "1d58a96f",
   "metadata": {},
   "source": [
    "Functions"
   ]
  },
  {
   "cell_type": "code",
   "execution_count": 17,
   "id": "155ed0fd",
   "metadata": {},
   "outputs": [],
   "source": [
    "def get_error_count(labeled_data_set, predicted_data_set):\n",
    "    TP = 0\n",
    "    TN = 0\n",
    "    FP = 0\n",
    "    FN = 0\n",
    "    for k in labeled_data_set.keys():\n",
    "        if labeled_data_set[k] == 'spam' and predicted_data_set[k] == 'spam':\n",
    "            TP += 1 # True Positive\n",
    "        if labeled_data_set[k] == 'ham' and predicted_data_set[k] == 'ham':\n",
    "            TN += 1 # True Negative\n",
    "        if labeled_data_set[k] == 'ham' and predicted_data_set[k] == 'spam':\n",
    "            FP += 1 # False Positive\n",
    "        if labeled_data_set[k] == 'spam' and predicted_data_set[k] == 'ham':\n",
    "            FN += 1 # False Negative\n",
    "    return TP, TN, FP, FN\n",
    "\n",
    "def get_precision(TP, FP, FN):\n",
    "    return TP / (TP+FP)\n",
    "\n",
    "def get_recall(TP, FP, FN):\n",
    "    return TP / (TP+FN)"
   ]
  },
  {
   "cell_type": "markdown",
   "id": "8d09c26e",
   "metadata": {},
   "source": [
    "Precision and Recall - Regular Implementation"
   ]
  },
  {
   "cell_type": "code",
   "execution_count": 18,
   "id": "0b721513",
   "metadata": {},
   "outputs": [
    {
     "name": "stdout",
     "output_type": "stream",
     "text": [
      "Precision: 0.8500705550329257\n",
      "Recall: 0.5798042990054539\n"
     ]
    }
   ],
   "source": [
    "TP, TN, FP, FN = get_error_count(test_set_labels, labeled_probability)\n",
    "print('Precision:', get_precision(TP, FP, FN))\n",
    "print('Recall:', get_recall(TP, FP, FN))"
   ]
  },
  {
   "cell_type": "markdown",
   "id": "3d5ba8a2",
   "metadata": {},
   "source": [
    "## 2.2 Lambda Smoothing"
   ]
  },
  {
   "cell_type": "code",
   "execution_count": 19,
   "id": "809f9e23",
   "metadata": {},
   "outputs": [],
   "source": [
    "def get_probability_smooth(set_count, count, l):\n",
    "    set_probability_smooth = {}\n",
    "    for key in set_count:\n",
    "        set_probability_smooth[key] = (set_count[key]+l)/count\n",
    "    return set_probability_smooth"
   ]
  },
  {
   "cell_type": "code",
   "execution_count": 20,
   "id": "e766afb4",
   "metadata": {},
   "outputs": [],
   "source": [
    "def probability_classification_with_smoothing(data, l, spam, ham, spam_probability_smooth, ham_probability_smooth):\n",
    "    \n",
    "    data_length = len(data)\n",
    "    \n",
    "    prior_spam = spam/data_length\n",
    "    prior_ham = ham/data_length\n",
    "    \n",
    "    labeled_probability = {}\n",
    "\n",
    "    for item in data:\n",
    "\n",
    "        likelihoodA = 1\n",
    "        likelihoodB = 1\n",
    "        vocabulary_size = len(item['all_words'])\n",
    "        all_words = list(item['all_words'])\n",
    "\n",
    "        for word in all_words:\n",
    "            \n",
    "            all_words_count = all_words.count(word) + l\n",
    "            \n",
    "            # spam likelihood \n",
    "            a_temp = m.exp(m.log(likelihoodA) + m.log(spam_probability_smooth.get(word,l/spam)))\n",
    "            if a_temp <= 0:\n",
    "                break\n",
    "            if a_temp != 0:\n",
    "                likelihoodA = a_temp\n",
    "                \n",
    "        \n",
    "            # ham likelihood\n",
    "            b_temp = m.exp(m.log(likelihoodA) + m.log(ham_probability_smooth.get(word,l/ham)))\n",
    "            if b_temp <= 0:\n",
    "                break\n",
    "            if b_temp != 0:\n",
    "                likelihoodB = b_temp\n",
    "\n",
    "        probability_spam = (likelihoodA * prior_spam) / ( (likelihoodA * prior_spam) + (likelihoodB * prior_ham))\n",
    "        probability_ham = (likelihoodB * prior_ham) / ( (likelihoodB * prior_ham) + (likelihoodA * prior_spam) )\n",
    "\n",
    "        if probability_spam > probability_ham: \n",
    "            labeled_probability[item['file_name']] = 'spam'\n",
    "        else: \n",
    "            labeled_probability[item['file_name']] = 'ham'\n",
    "        \n",
    "    return labeled_probability"
   ]
  },
  {
   "cell_type": "markdown",
   "id": "f8865c3f",
   "metadata": {},
   "source": [
    "λ = 2.0"
   ]
  },
  {
   "cell_type": "code",
   "execution_count": 21,
   "id": "0cfe5e83",
   "metadata": {},
   "outputs": [],
   "source": [
    "lambda_values = []\n",
    "precision_values = []\n",
    "recall_values = []"
   ]
  },
  {
   "cell_type": "code",
   "execution_count": 22,
   "id": "d1737fb2",
   "metadata": {},
   "outputs": [
    {
     "name": "stdout",
     "output_type": "stream",
     "text": [
      "SPAM: 75.04 %\n",
      "HAM: 24.96 %\n",
      "Precision: 0.7\n",
      "Recall: 0.79\n"
     ]
    }
   ],
   "source": [
    "λ = 2\n",
    "\n",
    "spam_probability_smooth = get_probability_smooth(spam_set_count, spam_count, λ)\n",
    "ham_probability_smooth = get_probability_smooth(ham_set_count, ham_count, λ)\n",
    "\n",
    "labeled_probability_values_ws2 = probability_classification_with_smoothing(data_set_test, λ, \n",
    "                                spam_count, ham_count, spam_probability_smooth, ham_probability_smooth)\n",
    "\n",
    "labeled_probability_values = list(labeled_probability_values_ws2.values())\n",
    "total_length = len(labeled_probability_values)\n",
    "print('SPAM:', round((labeled_probability_values.count('spam')/total_length)*100,2), '%')\n",
    "print('HAM:', round((labeled_probability_values.count('ham')/total_length)*100,2), '%')\n",
    "\n",
    "TP, TN, FP, FN = get_error_count(test_set_labels, labeled_probability_values_ws2)\n",
    "precision = get_precision(TP, FP, FN) \n",
    "recall = get_recall(TP, FP, FN)\n",
    "print('Precision:', round(precision,2))\n",
    "print('Recall:', round(recall,2))\n",
    "\n",
    "lambda_values.append(λ)\n",
    "precision_values.append(precision)\n",
    "recall_values.append(recall)"
   ]
  },
  {
   "cell_type": "markdown",
   "id": "a5253ae1",
   "metadata": {},
   "source": [
    "λ = 1.0"
   ]
  },
  {
   "cell_type": "code",
   "execution_count": 23,
   "id": "522056d7",
   "metadata": {},
   "outputs": [
    {
     "name": "stdout",
     "output_type": "stream",
     "text": [
      "SPAM: 75 %\n",
      "HAM: 25 %\n",
      "Precision: 0.7\n",
      "Recall: 0.79\n"
     ]
    }
   ],
   "source": [
    "λ = 1\n",
    "\n",
    "spam_probability_smooth = get_probability_smooth(spam_set_count, spam_count, λ)\n",
    "ham_probability_smooth = get_probability_smooth(ham_set_count, ham_count, λ)\n",
    "\n",
    "labeled_probability_values_ws2 = probability_classification_with_smoothing(data_set_test, λ, \n",
    "                                spam_count, ham_count, spam_probability_smooth, ham_probability_smooth)\n",
    "\n",
    "labeled_probability_values = list(labeled_probability_values_ws2.values())\n",
    "total_length = len(labeled_probability_values)\n",
    "print('SPAM:', round((labeled_probability_values.count('spam')/total_length)*100), '%')\n",
    "print('HAM:', round((labeled_probability_values.count('ham')/total_length)*100), '%')\n",
    "\n",
    "TP, TN, FP, FN = get_error_count(test_set_labels, labeled_probability_values_ws2)\n",
    "precision = get_precision(TP, FP, FN) \n",
    "recall = get_recall(TP, FP, FN)\n",
    "print('Precision:', round(precision,2))\n",
    "print('Recall:', round(recall,2))\n",
    "\n",
    "lambda_values.append(λ)\n",
    "precision_values.append(precision)\n",
    "recall_values.append(recall)"
   ]
  },
  {
   "cell_type": "markdown",
   "id": "73157c2f",
   "metadata": {},
   "source": [
    "λ = 0.5"
   ]
  },
  {
   "cell_type": "code",
   "execution_count": 24,
   "id": "fd8cfd28",
   "metadata": {},
   "outputs": [
    {
     "name": "stdout",
     "output_type": "stream",
     "text": [
      "SPAM: 74.29674280879864 %\n",
      "HAM: 25.703257191201356 %\n",
      "Precision: 0.7\n",
      "Recall: 0.79\n"
     ]
    }
   ],
   "source": [
    "λ = 0.5\n",
    "\n",
    "spam_probability_smooth = get_probability_smooth(spam_set_count, spam_count, λ)\n",
    "ham_probability_smooth = get_probability_smooth(ham_set_count, ham_count, λ)\n",
    "\n",
    "labeled_probability_values_ws2 = probability_classification_with_smoothing(data_set_test, λ, \n",
    "                                spam_count, ham_count, spam_probability_smooth, ham_probability_smooth)\n",
    "\n",
    "labeled_probability_values = list(labeled_probability_values_ws2.values())\n",
    "total_length = len(labeled_probability_values)\n",
    "print('SPAM:', (labeled_probability_values.count('spam')/total_length)*100, '%')\n",
    "print('HAM:', (labeled_probability_values.count('ham')/total_length)*100, '%')\n",
    "\n",
    "TP, TN, FP, FN = get_error_count(test_set_labels, labeled_probability_values_ws2)\n",
    "precision = get_precision(TP, FP, FN) \n",
    "recall = get_recall(TP, FP, FN)\n",
    "print('Precision:', round(precision,2))\n",
    "print('Recall:', round(recall,2))\n",
    "\n",
    "lambda_values.append(λ)\n",
    "precision_values.append(precision)\n",
    "recall_values.append(recall)"
   ]
  },
  {
   "cell_type": "markdown",
   "id": "c5efd625",
   "metadata": {},
   "source": [
    "λ = 0.1"
   ]
  },
  {
   "cell_type": "code",
   "execution_count": 25,
   "id": "90d5d52e",
   "metadata": {},
   "outputs": [
    {
     "name": "stdout",
     "output_type": "stream",
     "text": [
      "SPAM: 73.44014382402707 %\n",
      "HAM: 26.55985617597293 %\n",
      "Precision: 0.7\n",
      "Recall: 0.78\n"
     ]
    }
   ],
   "source": [
    "λ = 0.1\n",
    "\n",
    "spam_probability_smooth = get_probability_smooth(spam_set_count, spam_count, λ)\n",
    "ham_probability_smooth = get_probability_smooth(ham_set_count, ham_count, λ)\n",
    "\n",
    "labeled_probability_values_ws2 = probability_classification_with_smoothing(data_set_test, λ, \n",
    "                                spam_count, ham_count, spam_probability_smooth, ham_probability_smooth)\n",
    "\n",
    "labeled_probability_values = list(labeled_probability_values_ws2.values())\n",
    "total_length = len(labeled_probability_values)\n",
    "print('SPAM:', (labeled_probability_values.count('spam')/total_length)*100, '%')\n",
    "print('HAM:', (labeled_probability_values.count('ham')/total_length)*100, '%')\n",
    "\n",
    "TP, TN, FP, FN = get_error_count(test_set_labels, labeled_probability_values_ws2)\n",
    "precision = get_precision(TP, FP, FN) \n",
    "recall = get_recall(TP, FP, FN)\n",
    "print('Precision:', round(precision,2))\n",
    "print('Recall:', round(recall,2))\n",
    "\n",
    "lambda_values.append(λ)\n",
    "precision_values.append(precision)\n",
    "recall_values.append(recall)"
   ]
  },
  {
   "cell_type": "markdown",
   "id": "acc3666b",
   "metadata": {},
   "source": [
    "λ = 0.005"
   ]
  },
  {
   "cell_type": "code",
   "execution_count": 26,
   "id": "8170fce3",
   "metadata": {},
   "outputs": [
    {
     "name": "stdout",
     "output_type": "stream",
     "text": [
      "SPAM: 73.2339255499154 %\n",
      "HAM: 26.766074450084602 %\n",
      "Precision: 0.7\n",
      "Recall: 0.77\n"
     ]
    }
   ],
   "source": [
    "λ = 0.005\n",
    "\n",
    "spam_probability_smooth = get_probability_smooth(spam_set_count, spam_count, λ)\n",
    "ham_probability_smooth = get_probability_smooth(ham_set_count, ham_count, λ)\n",
    "\n",
    "labeled_probability_values_ws2 = probability_classification_with_smoothing(data_set_test, λ, \n",
    "                                spam_count, ham_count, spam_probability_smooth, ham_probability_smooth)\n",
    "\n",
    "labeled_probability_values = list(labeled_probability_values_ws2.values())\n",
    "total_length = len(labeled_probability_values)\n",
    "print('SPAM:', (labeled_probability_values.count('spam')/total_length)*100, '%')\n",
    "print('HAM:', (labeled_probability_values.count('ham')/total_length)*100, '%')\n",
    "\n",
    "TP, TN, FP, FN = get_error_count(test_set_labels, labeled_probability_values_ws2)\n",
    "precision = get_precision(TP, FP, FN) \n",
    "recall = get_recall(TP, FP, FN)\n",
    "print('Precision:', round(precision,2))\n",
    "print('Recall:', round(recall,2))\n",
    "\n",
    "\n",
    "lambda_values.append(λ)\n",
    "precision_values.append(precision)\n",
    "recall_values.append(recall)"
   ]
  },
  {
   "cell_type": "code",
   "execution_count": 27,
   "id": "6afe06e6",
   "metadata": {},
   "outputs": [
    {
     "data": {
      "text/plain": [
       "[<matplotlib.lines.Line2D at 0x1da28cae3a0>]"
      ]
     },
     "execution_count": 27,
     "metadata": {},
     "output_type": "execute_result"
    },
    {
     "data": {
      "image/png": "[encoded data removed]",
      "text/plain": [
       "<Figure size 432x288 with 1 Axes>"
      ]
     },
     "metadata": {
      "needs_background": "light"
     },
     "output_type": "display_data"
    }
   ],
   "source": [
    "plt.plot(lambda_values, precision_values, marker='o')"
   ]
  },
  {
   "cell_type": "code",
   "execution_count": 28,
   "id": "da0b2ef9",
   "metadata": {},
   "outputs": [
    {
     "name": "stdout",
     "output_type": "stream",
     "text": [
      "The lambda with highest precision is 0.1\n"
     ]
    }
   ],
   "source": [
    "print('The lambda with highest precision is', lambda_values[precision_values.index(max(precision_values))])"
   ]
  },
  {
   "cell_type": "code",
   "execution_count": 29,
   "id": "29b82ccf",
   "metadata": {},
   "outputs": [
    {
     "data": {
      "text/plain": [
       "[<matplotlib.lines.Line2D at 0x1da28ce83a0>]"
      ]
     },
     "execution_count": 29,
     "metadata": {},
     "output_type": "execute_result"
    },
    {
     "data": {
      "image/png": "[encoded data removed]",
      "text/plain": [
       "<Figure size 432x288 with 1 Axes>"
      ]
     },
     "metadata": {
      "needs_background": "light"
     },
     "output_type": "display_data"
    }
   ],
   "source": [
    "plt.plot(lambda_values, recall_values, marker='o')"
   ]
  },
  {
   "cell_type": "code",
   "execution_count": 30,
   "id": "f2d65c46",
   "metadata": {},
   "outputs": [
    {
     "name": "stdout",
     "output_type": "stream",
     "text": [
      "The lambda with highest recall is 2\n"
     ]
    }
   ],
   "source": [
    "print('The lambda with highest recall is', lambda_values[recall_values.index(max(recall_values))])"
   ]
  },
  {
   "cell_type": "markdown",
   "id": "6c725237",
   "metadata": {},
   "source": [
    "## 2.3 Improving the Classifier"
   ]
  },
  {
   "cell_type": "code",
   "execution_count": 31,
   "id": "30d1c739",
   "metadata": {},
   "outputs": [],
   "source": [
    "full_dictionary = list(set(spam_set_list + ham_set_list))"
   ]
  },
  {
   "cell_type": "markdown",
   "id": "f7b27e89",
   "metadata": {},
   "source": [
    "Modification #1: Trim the list by removing the least frequent words."
   ]
  },
  {
   "cell_type": "code",
   "execution_count": 32,
   "id": "39420d2a",
   "metadata": {},
   "outputs": [
    {
     "name": "stdout",
     "output_type": "stream",
     "text": [
      "89.44 % of the training set was removed after trimming\n"
     ]
    }
   ],
   "source": [
    "orig_len = len(full_dictionary)\n",
    "\n",
    "trimmed_list = []\n",
    "spam_set_count_trimmed = {}\n",
    "ham_set_count_trimmed = {}\n",
    "for word in full_dictionary:\n",
    "    if ham_set_count.get(word) and ham_set_count.get(word) >= 2:\n",
    "        trimmed_list.append(word)\n",
    "        ham_set_count_trimmed[word] = ham_set_count[word]\n",
    "    elif spam_set_count.get(word) and spam_set_count.get(word) >= 2:\n",
    "        trimmed_list.append(word)\n",
    "        spam_set_count_trimmed[word] = spam_set_count[word]\n",
    "\n",
    "trimmed_len = len(trimmed_list)\n",
    "diff = round(((orig_len - trimmed_len) / (orig_len))*100,2)\n",
    "print(diff, '% of the training set was removed after trimming')"
   ]
  },
  {
   "cell_type": "code",
   "execution_count": 34,
   "id": "0b940cae",
   "metadata": {},
   "outputs": [
    {
     "name": "stdout",
     "output_type": "stream",
     "text": [
      "SPAM: 68.4697546531303 %\n",
      "HAM: 31.530245346869712 %\n",
      "Precision: 0.7339562900610086\n",
      "Recall: 0.7622714148219442\n"
     ]
    }
   ],
   "source": [
    "λ = 2\n",
    "\n",
    "spam_probability_smooth = get_probability_smooth(spam_set_count_trimmed, spam_count, λ)\n",
    "ham_probability_smooth = get_probability_smooth(ham_set_count_trimmed, ham_count, λ)\n",
    "\n",
    "labeled_probability_values_trimmed = probability_classification_with_smoothing(data_set_test, λ, \n",
    "                                spam_count, ham_count, spam_probability_smooth, ham_probability_smooth)\n",
    "\n",
    "labeled_probability_values = list(labeled_probability_values_trimmed.values())\n",
    "total_length = len(labeled_probability_values)\n",
    "print('SPAM:', (labeled_probability_values.count('spam')/total_length)*100, '%')\n",
    "print('HAM:', (labeled_probability_values.count('ham')/total_length)*100, '%')\n",
    "\n",
    "TP, TN, FP, FN = get_error_count(test_set_labels, labeled_probability_values_trimmed)\n",
    "print('Precision:', get_precision(TP, FP, FN))\n",
    "print('Recall:', get_recall(TP, FP, FN))"
   ]
  },
  {
   "cell_type": "markdown",
   "id": "3813220a",
   "metadata": {},
   "source": [
    "**Evaluation: There's a significant increase in precision and decrease in recall for lambda = 2.**"
   ]
  },
  {
   "cell_type": "markdown",
   "id": "3cbcb55f",
   "metadata": {},
   "source": [
    "Modification #2: Change the classification treshold"
   ]
  },
  {
   "cell_type": "code",
   "execution_count": 35,
   "id": "f2423926",
   "metadata": {},
   "outputs": [],
   "source": [
    "def probability_classification_with_smoothing_tresh(data, l, spam, ham, spam_probability_smooth, ham_probability_smooth, t):\n",
    "    \n",
    "    data_length = len(data)\n",
    "    \n",
    "    prior_spam = spam/data_length\n",
    "    prior_ham = ham/data_length\n",
    "    \n",
    "    labeled_probability = {}\n",
    "\n",
    "    for item in data:\n",
    "\n",
    "        likelihoodA = 1\n",
    "        likelihoodB = 1\n",
    "        vocabulary_size = len(item['all_words'])\n",
    "        all_words = list(item['all_words'])\n",
    "\n",
    "        for word in all_words:\n",
    "            \n",
    "            all_words_count = all_words.count(word) + l\n",
    "            # spam likelihood  \n",
    "            a_temp = m.exp(m.log(likelihoodA) + m.log(spam_probability_smooth.get(word,l/spam)))\n",
    "            if a_temp <= 0:\n",
    "                break\n",
    "            if a_temp != 0:\n",
    "                likelihoodA = a_temp\n",
    "                     \n",
    "            # ham likelihood\n",
    "            b_temp = m.exp(m.log(likelihoodA) + m.log(ham_probability_smooth.get(word,l/ham)))\n",
    "            if b_temp <= 0:\n",
    "                break\n",
    "            if b_temp != 0:\n",
    "                likelihoodB = b_temp\n",
    "\n",
    "        probability_spam = (likelihoodA * prior_spam) / ( (likelihoodA * prior_spam) + (likelihoodB * prior_ham))\n",
    "        probability_ham = (likelihoodB * prior_ham) / ( (likelihoodB * prior_ham) + (likelihoodA * prior_spam) )\n",
    "        \n",
    "        if (probability_spam/probability_ham) > t:\n",
    "            labeled_probability[item['file_name']] = 'spam'\n",
    "        else: \n",
    "            labeled_probability[item['file_name']] = 'ham'\n",
    "        \n",
    "    return labeled_probability"
   ]
  },
  {
   "cell_type": "code",
   "execution_count": 36,
   "id": "ec0f384d",
   "metadata": {},
   "outputs": [
    {
     "name": "stdout",
     "output_type": "stream",
     "text": [
      "SPAM: 74.68802876480541 %\n",
      "HAM: 25.311971235194587 %\n",
      "Precision: 0.6950088495575222\n",
      "Recall: 0.7873756817452678\n"
     ]
    }
   ],
   "source": [
    "λ = 1\n",
    "t = 1\n",
    "\n",
    "spam_probability_smooth = get_probability_smooth(spam_set_count, spam_count, λ)\n",
    "ham_probability_smooth = get_probability_smooth(ham_set_count, ham_count, λ)\n",
    "\n",
    "labeled_probability_values_tresh = probability_classification_with_smoothing_tresh(data_set_test, λ, \n",
    "                                spam_count, ham_count, spam_probability_smooth, ham_probability_smooth, t)\n",
    "\n",
    "labeled_probability_values = list(labeled_probability_values_tresh.values())\n",
    "total_length = len(labeled_probability_values)\n",
    "print('SPAM:', (labeled_probability_values.count('spam')/total_length)*100, '%')\n",
    "print('HAM:', (labeled_probability_values.count('ham')/total_length)*100, '%')\n",
    "\n",
    "TP, TN, FP, FN = get_error_count(test_set_labels, labeled_probability_values_tresh)\n",
    "print('Precision:', get_precision(TP, FP, FN))\n",
    "print('Recall:', get_recall(TP, FP, FN))"
   ]
  },
  {
   "cell_type": "code",
   "execution_count": 37,
   "id": "297d5a4d",
   "metadata": {},
   "outputs": [
    {
     "name": "stdout",
     "output_type": "stream",
     "text": [
      "SPAM: 75.04230118443317 %\n",
      "HAM: 24.957698815566836 %\n",
      "Precision: 0.695250845546787\n",
      "Recall: 0.791385948026949\n"
     ]
    }
   ],
   "source": [
    "λ = 2\n",
    "t = 1\n",
    "\n",
    "spam_probability_smooth = get_probability_smooth(spam_set_count, spam_count, λ)\n",
    "ham_probability_smooth = get_probability_smooth(ham_set_count, ham_count, λ)\n",
    "\n",
    "labeled_probability_values_tresh = probability_classification_with_smoothing_tresh(data_set_test, λ, \n",
    "                                spam_count, ham_count, spam_probability_smooth, ham_probability_smooth, t)\n",
    "\n",
    "labeled_probability_values = list(labeled_probability_values_tresh.values())\n",
    "total_length = len(labeled_probability_values)\n",
    "print('SPAM:', (labeled_probability_values.count('spam')/total_length)*100, '%')\n",
    "print('HAM:', (labeled_probability_values.count('ham')/total_length)*100, '%')\n",
    "\n",
    "TP, TN, FP, FN = get_error_count(test_set_labels, labeled_probability_values_tresh)\n",
    "print('Precision:', get_precision(TP, FP, FN))\n",
    "print('Recall:', get_recall(TP, FP, FN))"
   ]
  },
  {
   "cell_type": "markdown",
   "id": "288903ab",
   "metadata": {},
   "source": [
    "**Evaluation: No change in precision and recall for lambda=1 and lambda=2.**"
   ]
  },
  {
   "cell_type": "markdown",
   "id": "53b4dcee",
   "metadata": {},
   "source": [
    "Modification #3: Only include words that significantly discriminates between Spam and Ham"
   ]
  },
  {
   "cell_type": "code",
   "execution_count": 38,
   "id": "7f45734b",
   "metadata": {},
   "outputs": [],
   "source": [
    "spam_docs = []\n",
    "ham_docs = []\n",
    "for doc in data_set:\n",
    "    if doc['correct_label'] == 'spam':\n",
    "        spam_docs.append(doc['all_words'])\n",
    "    if doc['correct_label'] == 'ham':\n",
    "        ham_docs.append(doc['all_words'])"
   ]
  },
  {
   "cell_type": "code",
   "execution_count": 39,
   "id": "1e0cac76",
   "metadata": {},
   "outputs": [
    {
     "name": "stderr",
     "output_type": "stream",
     "text": [
      "100%|████████████████████████████████████████████████████████████████████| 1659170/1659170 [00:05<00:00, 317118.57it/s]\n"
     ]
    }
   ],
   "source": [
    "import math\n",
    "from collections import Counter\n",
    "\n",
    "ham_word_counts = Counter(word for doc in ham_docs for word in doc)\n",
    "spam_word_counts = Counter(word for doc in spam_docs for word in doc)\n",
    "\n",
    "total_ham_docs = len(ham_docs)\n",
    "total_spam_docs = len(spam_docs)\n",
    "total_training_length = total_ham_docs + total_spam_docs\n",
    "\n",
    "mi_scores = {}\n",
    "\n",
    "for word in tqdm(full_dictionary):\n",
    "    c1 = ham_word_counts[word] / total_training_length\n",
    "    c3 = (total_ham_docs - (ham_word_counts[word] if ham_word_counts[word] <= total_ham_docs else total_ham_docs)) / total_training_length\n",
    "    c2 = spam_word_counts[word] / total_training_length\n",
    "    c4 = (total_spam_docs - (spam_word_counts[word]) if spam_word_counts[word] <= total_spam_docs else total_spam_docs) / total_training_length\n",
    "    \n",
    "    prob1 = c1 * math.log(c1 / ((c1 + c2) * (c1 + c3))) if c1 > 0 else 0\n",
    "    prob2 = c2 * math.log(c2 / ((c1 + c2) * (c2 + c4))) if c2 > 0 else 0\n",
    "    prob3 = c3 * math.log(c3 / ((c3 + c4) * (c1 + c3))) if c3 > 0 else 0\n",
    "    prob4 = c4 * math.log(c4 / ((c3 + c4) * (c2 + c4))) if c4 > 0 else 0\n",
    "    \n",
    "    mi_scores[word] = prob1 + prob2 + prob3 + prob4"
   ]
  },
  {
   "cell_type": "code",
   "execution_count": 40,
   "id": "be1263ae",
   "metadata": {},
   "outputs": [
    {
     "name": "stdout",
     "output_type": "stream",
     "text": [
      "SPAM: 23.339678510998308 %\n",
      "HAM: 76.66032148900169 %\n",
      "Precision: 0.689170820117807\n",
      "Recall: 0.24398460057747834\n"
     ]
    }
   ],
   "source": [
    "n = 200\n",
    "λ = 1\n",
    "\n",
    "mi_scores_list = sorted(list(mi_scores.items()),key=lambda x: x[1], reverse=True)\n",
    "top200 = {k:v for k, v in mi_scores_list[:n]}\n",
    "spam_probability_smooth = get_probability_smooth(spam_set_count, spam_count, λ)\n",
    "ham_probability_smooth = get_probability_smooth(ham_set_count, ham_count, λ)\n",
    "\n",
    "top200_list = [k for k in top200.keys()]\n",
    "spam_probability_smooth_hovold = {}\n",
    "\n",
    "for k in spam_probability_smooth.keys():\n",
    "    if k in top200_list:\n",
    "        spam_probability_smooth_hovold[k] = spam_probability_smooth[k]\n",
    "\n",
    "ham_probability_smooth_hovold = {}\n",
    "\n",
    "for k in ham_probability_smooth.keys():\n",
    "    if k in top200_list:\n",
    "        ham_probability_smooth_hovold[k] = ham_probability_smooth[k]\n",
    "        \n",
    "labeled_probability_values_hovold = probability_classification_with_smoothing(data_set_test, λ, \n",
    "                                spam_count, ham_count, spam_probability_smooth_hovold, ham_probability_smooth_hovold)\n",
    "\n",
    "labeled_probability_values = list(labeled_probability_values_hovold.values())\n",
    "total_length = len(labeled_probability_values)\n",
    "print('SPAM:', (labeled_probability_values.count('spam')/total_length)*100, '%')\n",
    "print('HAM:', (labeled_probability_values.count('ham')/total_length)*100, '%')\n",
    "\n",
    "TP, TN, FP, FN = get_error_count(test_set_labels, labeled_probability_values_hovold)\n",
    "print('Precision:', get_precision(TP, FP, FN))\n",
    "print('Recall:', get_recall(TP, FP, FN))"
   ]
  },
  {
   "cell_type": "code",
   "execution_count": 41,
   "id": "0da558ca",
   "metadata": {},
   "outputs": [
    {
     "name": "stdout",
     "output_type": "stream",
     "text": [
      "SPAM: 23.84200507614213 %\n",
      "HAM: 76.15799492385787 %\n",
      "Precision: 0.7360833887779995\n",
      "Recall: 0.26620147577799164\n"
     ]
    }
   ],
   "source": [
    "n = 200\n",
    "λ = 2\n",
    "\n",
    "mi_scores_list = sorted(list(mi_scores.items()),key=lambda x: x[1], reverse=True)\n",
    "top200 = {k:v for k, v in mi_scores_list[:n]}\n",
    "spam_probability_smooth = get_probability_smooth(spam_set_count, spam_count, λ)\n",
    "ham_probability_smooth = get_probability_smooth(ham_set_count, ham_count, λ)\n",
    "\n",
    "top200_list = [k for k in top200.keys()]\n",
    "spam_probability_smooth_hovold = {}\n",
    "\n",
    "for k in spam_probability_smooth.keys():\n",
    "    if k in top200_list:\n",
    "        spam_probability_smooth_hovold[k] = spam_probability_smooth[k]\n",
    "\n",
    "ham_probability_smooth_hovold = {}\n",
    "\n",
    "for k in ham_probability_smooth.keys():\n",
    "    if k in top200_list:\n",
    "        ham_probability_smooth_hovold[k] = ham_probability_smooth[k]\n",
    "        \n",
    "labeled_probability_values_hovold = probability_classification_with_smoothing(data_set_test, λ, \n",
    "                                spam_count, ham_count, spam_probability_smooth_hovold, ham_probability_smooth_hovold)\n",
    "\n",
    "labeled_probability_values = list(labeled_probability_values_hovold.values())\n",
    "total_length = len(labeled_probability_values)\n",
    "print('SPAM:', (labeled_probability_values.count('spam')/total_length)*100, '%')\n",
    "print('HAM:', (labeled_probability_values.count('ham')/total_length)*100, '%')\n",
    "\n",
    "TP, TN, FP, FN = get_error_count(test_set_labels, labeled_probability_values_hovold)\n",
    "print('Precision:', get_precision(TP, FP, FN))\n",
    "print('Recall:', get_recall(TP, FP, FN))"
   ]
  },
  {
   "cell_type": "markdown",
   "id": "9edeea8f",
   "metadata": {},
   "source": [
    "**Evaluation: Recall and precision decreased, with a lot more significant decrease in recall.**"
   ]
  },
  {
   "cell_type": "markdown",
   "id": "775f74e5",
   "metadata": {},
   "source": [
    "Top Differences"
   ]
  },
  {
   "cell_type": "code",
   "execution_count": 42,
   "id": "39e57169",
   "metadata": {},
   "outputs": [
    {
     "name": "stderr",
     "output_type": "stream",
     "text": [
      "100%|████████████████████████████████████████████████████████████████████████████████████████| 190/190 [00:00<?, ?it/s]"
     ]
    },
    {
     "name": "stdout",
     "output_type": "stream",
     "text": [
      "23 words in the spam vocabulary had a more than 0.1 difference in probability of ham and spam.\n"
     ]
    },
    {
     "name": "stderr",
     "output_type": "stream",
     "text": [
      "\n"
     ]
    }
   ],
   "source": [
    "spam_top = []\n",
    "\n",
    "for word in tqdm(spam_probability_smooth_hovold.keys()):\n",
    "    x = spam_probability_smooth_hovold.get(word,0) - ham_probability_smooth_hovold.get(word,0)\n",
    "    if x > 0.1: spam_top.append(word)\n",
    "        \n",
    "print(len(spam_top), 'words in the spam vocabulary had a more than 0.1 difference in probability of ham and spam.')"
   ]
  },
  {
   "cell_type": "code",
   "execution_count": 43,
   "id": "c4b9ae36",
   "metadata": {
    "scrolled": true
   },
   "outputs": [
    {
     "name": "stderr",
     "output_type": "stream",
     "text": [
      "100%|████████████████████████████████████████████████████████████████████████████████████████| 196/196 [00:00<?, ?it/s]"
     ]
    },
    {
     "name": "stdout",
     "output_type": "stream",
     "text": [
      "78 words in the spam vocabulary had a more than 0.1 difference in probability of ham and spam.\n"
     ]
    },
    {
     "name": "stderr",
     "output_type": "stream",
     "text": [
      "\n"
     ]
    }
   ],
   "source": [
    "ham_top = []\n",
    "\n",
    "for word in tqdm(ham_probability_smooth_hovold.keys()):\n",
    "    x = ham_probability_smooth_hovold.get(word,0) - spam_probability_smooth_hovold.get(word,0)\n",
    "    if x > 0.1: ham_top.append(word)\n",
    "        \n",
    "print(len(ham_top), 'words in the spam vocabulary had a more than 0.1 difference in probability of ham and spam.')"
   ]
  },
  {
   "cell_type": "markdown",
   "id": "bbc9b031",
   "metadata": {},
   "source": [
    "Probability Differences in the Full Dictionary"
   ]
  },
  {
   "cell_type": "code",
   "execution_count": 44,
   "id": "205c320b",
   "metadata": {},
   "outputs": [
    {
     "name": "stderr",
     "output_type": "stream",
     "text": [
      "100%|███████████████████████████████████████████████████████████████████| 1659170/1659170 [00:01<00:00, 1129800.43it/s]\n"
     ]
    },
    {
     "name": "stdout",
     "output_type": "stream",
     "text": [
      "Average 1.3526607495565726e-05\n",
      "Median 0\n",
      "Max 0.40403498238144625\n"
     ]
    }
   ],
   "source": [
    "full_dictionary_probdiff = {}\n",
    "\n",
    "for word in tqdm(full_dictionary):\n",
    "    full_dictionary_probdiff[word] = abs(spam_probability_smooth_hovold.get(word,0) - ham_probability_smooth_hovold.get(word,0))\n",
    "    \n",
    "probdiff_nums = [k for k in full_dictionary_probdiff.values()]\n",
    "ave_diff = sum(probdiff_nums) / len(probdiff_nums)\n",
    "max_diff = max(probdiff_nums)\n",
    "probdiff_nums_sorted = sorted(probdiff_nums)\n",
    "median_diff = probdiff_nums_sorted[int(len(probdiff_nums_sorted)/2)]\n",
    "print('Average',ave_diff)\n",
    "print('Median',median_diff)\n",
    "print('Max',max_diff)"
   ]
  }
 ],
 "metadata": {
  "kernelspec": {
   "display_name": "Python 3 (ipykernel)",
   "language": "python",
   "name": "python3"
  },
  "language_info": {
   "codemirror_mode": {
    "name": "ipython",
    "version": 3
   },
   "file_extension": ".py",
   "mimetype": "text/x-python",
   "name": "python",
   "nbconvert_exporter": "python",
   "pygments_lexer": "ipython3",
   "version": "3.9.12"
  }
 },
 "nbformat": 4,
 "nbformat_minor": 5
}
